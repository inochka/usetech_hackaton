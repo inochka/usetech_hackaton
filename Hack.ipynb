{
 "cells": [
  {
   "cell_type": "code",
   "execution_count": 1,
   "id": "eaa6bde5-fa35-4099-bd59-ca35130163a8",
   "metadata": {
    "tags": []
   },
   "outputs": [],
   "source": [
    "import numpy as np\n",
    "from scipy import stats\n",
    "import matplotlib.pyplot as plt"
   ]
  },
  {
   "cell_type": "code",
   "execution_count": 2,
   "id": "eaa5dc9b-eae7-4f03-9c2b-92ea7371bb32",
   "metadata": {
    "tags": []
   },
   "outputs": [],
   "source": [
    "SHAPE = (50,25,5)\n",
    "walls = np.zeros((SHAPE[0],SHAPE[1]))\n",
    "\n",
    "# Здесь в массив walls надо будет выгрузить изображение как массив из 0 (можно ходить) и 1 (стенка)\n",
    "walls[:20,20] = 1.\n",
    "walls[0,:] = 1.\n",
    "walls[-1,:] = 1.\n",
    "walls[:,-1] = 1.\n",
    "walls[:,0] = 1."
   ]
  },
  {
   "cell_type": "code",
   "execution_count": 3,
   "id": "de043a0b-17a0-4bd2-9946-a5954baf8785",
   "metadata": {
    "tags": []
   },
   "outputs": [
    {
     "data": {
      "image/png": "[encoded data removed]",
      "text/plain": [
       "<Figure size 640x480 with 1 Axes>"
      ]
     },
     "metadata": {},
     "output_type": "display_data"
    }
   ],
   "source": [
    "plt.imshow(walls[:,:], cmap = 'Greys')\n",
    "plt.show()"
   ]
  },
  {
   "cell_type": "code",
   "execution_count": 22,
   "id": "b6cc3c4f-3499-437f-ab63-b64e58b69f77",
   "metadata": {
    "tags": []
   },
   "outputs": [],
   "source": [
    "t_max = 300 #Максимальное время в секундах\n",
    "dt = 0.1 #Дискретизация по времени\n",
    "dx = 1. #Буквально 1 метр\n",
    "\n",
    "#координаты источника\n",
    "source_coords = [0,23,2] #x,y,z\n",
    "\n",
    "#интенсивность источника\n",
    "source_J = 0.1 #kg/m^3/s\n",
    "\n",
    "#что-то типа коэффициента диффузии\n",
    "D = 1e-6"
   ]
  },
  {
   "cell_type": "code",
   "execution_count": 23,
   "id": "8f2d0289-1b48-4d15-9e83-606961ef7f03",
   "metadata": {
    "tags": []
   },
   "outputs": [],
   "source": [
    "den = np.zeros((int(t_max/dt), SHAPE[0],SHAPE[1],SHAPE[2]), dtype = np.float32) #time, x,y,z"
   ]
  },
  {
   "cell_type": "code",
   "execution_count": 24,
   "id": "4719ef55-0216-4d37-ba2c-520c67db37cd",
   "metadata": {
    "tags": []
   },
   "outputs": [],
   "source": [
    "#Обратные расстояния от центра куба до его ячеек\n",
    "cubic = np.array([[[1./np.sqrt(3),1./np.sqrt(2),1./np.sqrt(3)],\n",
    "                   [1./np.sqrt(2),1.,1./np.sqrt(2)],\n",
    "                   [1./np.sqrt(3),1./np.sqrt(2),1./np.sqrt(3)]\n",
    "                  ],\n",
    "                  [[1./np.sqrt(2),1.,1./np.sqrt(2)],\n",
    "                   [1.,0.,1.],\n",
    "                   [1./np.sqrt(2),1.,1./np.sqrt(2)]\n",
    "                  ],\n",
    "                  [[1./np.sqrt(3),1./np.sqrt(2),1./np.sqrt(3)],\n",
    "                   [1./np.sqrt(2),1.,1./np.sqrt(2)],\n",
    "                   [1./np.sqrt(3),1./np.sqrt(2),1./np.sqrt(3)]\n",
    "                  ]\n",
    "                 ])"
   ]
  },
  {
   "cell_type": "code",
   "execution_count": 25,
   "id": "53643299-10e6-45d9-850d-b9d798b3abf3",
   "metadata": {
    "tags": []
   },
   "outputs": [],
   "source": [
    "#Штука, которая считает градиенты по текущему полю плотности\n",
    "def get_gradients_simple(den_t, walls = walls, sc = source_coords, D=D):\n",
    "    #Считаем добавки на каждой ячейке\n",
    "    grads = np.zeros((den_t.shape[0]+2,den_t.shape[1]+2,den_t.shape[2]+2), dtype = np.float32) #немножко паддим, чтобы не было ошибок\n",
    "    for x,y,z in np.argwhere(den_t > 1e-8):\n",
    "        grads[1+ (x-1):1+(x+2), 1+(y-1):1+(y+2), 1+(z-1):1+(z+2)] += D*dt*cubic\n",
    "    \n",
    "    grads_new = grads[1:-1,1:-1,1:-1]*(1.-np.expand_dims(walls, axis = -1))\n",
    "    grads = grads_new*np.sum(grads)/np.sum(grads_new)\n",
    "    \n",
    "    return grads"
   ]
  },
  {
   "cell_type": "code",
   "execution_count": 26,
   "id": "368feaee-e7bb-4532-91bf-9643d03073f4",
   "metadata": {
    "tags": []
   },
   "outputs": [
    {
     "name": "stdout",
     "output_type": "stream",
     "text": [
      "0\n",
      "100\n",
      "200\n",
      "300\n",
      "400\n",
      "500\n",
      "600\n",
      "700\n",
      "800\n",
      "900\n",
      "1000\n",
      "1100\n",
      "1200\n",
      "1300\n",
      "1400\n",
      "1500\n",
      "1600\n",
      "1700\n",
      "1800\n",
      "1900\n",
      "2000\n",
      "2100\n",
      "2200\n",
      "2300\n",
      "2400\n",
      "2500\n",
      "2600\n",
      "2700\n",
      "2800\n",
      "2900\n"
     ]
    }
   ],
   "source": [
    "# Итерируемся, записываем историю распространения\n",
    "for t_i in range(int(t_max/dt)-1):\n",
    "    den[t_i,source_coords[0],source_coords[1],source_coords[2]]+= source_J*dt\n",
    "    grads = get_gradients_simple(den[t_i])\n",
    "    den[t_i+1] = den[t_i]+grads\n",
    "    if int(t_i)%100 ==0:\n",
    "        print(t_i)\n",
    "den[int(t_max/dt)-2,source_coords[0],source_coords[1],source_coords[2]]+= source_J*dt"
   ]
  },
  {
   "cell_type": "code",
   "execution_count": 27,
   "id": "c377c30c-9479-40f0-ae55-903900672482",
   "metadata": {
    "tags": []
   },
   "outputs": [],
   "source": [
    "density_z = np.sum(den[:,:,:,0:3], axis = -1) #Динамика плотности на данном этаже на высоте человека\n",
    "# ЭТО И ЕСТЬ ИТОГОВЫЙ МАССИВ. СОХРАНЯЕМ\n",
    "np.save('density_txy',density_z)"
   ]
  },
  {
   "cell_type": "code",
   "execution_count": 38,
   "id": "d227aafd-062e-4bce-b36c-6c0332232421",
   "metadata": {
    "tags": []
   },
   "outputs": [],
   "source": [
    "# Функция для рисования гифки\n",
    "import matplotlib\n",
    "from matplotlib import cm\n",
    "from matplotlib.animation import FuncAnimation\n",
    "def make_2d_gif(U, fname, step=1):\n",
    "    fig = plt.figure(figsize=(10,7))\n",
    "\n",
    "    zmax = np.max(np.max(U)) + 0.01\n",
    "    zmin = 0 #np.min(np.min(U)) - 0.01\n",
    "    norm = matplotlib.colors.Normalize(vmin=zmin, vmax=zmax, clip=False)\n",
    "    im=plt.imshow(U[0,:,:])\n",
    "    plt.colorbar()\n",
    "    plt.grid(False)\n",
    "    nst = U.shape[0] // step\n",
    "\n",
    "    def update(i):\n",
    "        im.set_array(U[i*step,:,:])\n",
    "        return im\n",
    "    \n",
    "    anim = FuncAnimation(fig, update, frames=range(nst), interval=100)\n",
    "    anim.save(fname, dpi=80, writer='imagemagick')"
   ]
  },
  {
   "cell_type": "code",
   "execution_count": 40,
   "id": "ea990137-3739-4708-ac21-3a7c2ae4fcdc",
   "metadata": {
    "tags": []
   },
   "outputs": [
    {
     "name": "stderr",
     "output_type": "stream",
     "text": [
      "MovieWriter imagemagick unavailable; using Pillow instead.\n"
     ]
    },
    {
     "data": {
      "image/png": "[encoded data removed]",
      "text/plain": [
       "<Figure size 1000x700 with 2 Axes>"
      ]
     },
     "metadata": {},
     "output_type": "display_data"
    }
   ],
   "source": [
    "# Сохраняем в виде gif\n",
    "make_2d_gif(density_z[0:1000,:,:], \"test6_2d.gif\", 10)"
   ]
  },
  {
   "cell_type": "code",
   "execution_count": null,
   "id": "345d66c0-3ab0-492f-971f-29e71e919c6d",
   "metadata": {},
   "outputs": [],
   "source": []
  }
 ],
 "metadata": {
  "kernelspec": {
   "display_name": "Python 3 (ipykernel)",
   "language": "python",
   "name": "python3"
  },
  "language_info": {
   "codemirror_mode": {
    "name": "ipython",
    "version": 3
   },
   "file_extension": ".py",
   "mimetype": "text/x-python",
   "name": "python",
   "nbconvert_exporter": "python",
   "pygments_lexer": "ipython3",
   "version": "3.8.17"
  }
 },
 "nbformat": 4,
 "nbformat_minor": 5
}
