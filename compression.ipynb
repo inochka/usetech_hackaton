{
 "cells": [
  {
   "cell_type": "code",
   "execution_count": 1,
   "metadata": {
    "id": "WQaVL0aR1gmy"
   },
   "outputs": [
    {
     "ename": "ModuleNotFoundError",
     "evalue": "No module named 'cv2'",
     "output_type": "error",
     "traceback": [
      "\u001b[1;31m---------------------------------------------------------------------------\u001b[0m",
      "\u001b[1;31mModuleNotFoundError\u001b[0m                       Traceback (most recent call last)",
      "\u001b[1;32m<ipython-input-1-5737633e0050>\u001b[0m in \u001b[0;36m<module>\u001b[1;34m\u001b[0m\n\u001b[0;32m      1\u001b[0m \u001b[1;31m# алгоритм для расширения стенок\u001b[0m\u001b[1;33m\u001b[0m\u001b[1;33m\u001b[0m\u001b[1;33m\u001b[0m\u001b[0m\n\u001b[0;32m      2\u001b[0m \u001b[1;33m\u001b[0m\u001b[0m\n\u001b[1;32m----> 3\u001b[1;33m \u001b[1;32mimport\u001b[0m \u001b[0mcv2\u001b[0m\u001b[1;33m\u001b[0m\u001b[1;33m\u001b[0m\u001b[0m\n\u001b[0m\u001b[0;32m      4\u001b[0m \u001b[1;32mimport\u001b[0m \u001b[0mnumpy\u001b[0m \u001b[1;32mas\u001b[0m \u001b[0mnp\u001b[0m\u001b[1;33m\u001b[0m\u001b[1;33m\u001b[0m\u001b[0m\n\u001b[0;32m      5\u001b[0m \u001b[1;32mimport\u001b[0m \u001b[0mmatplotlib\u001b[0m\u001b[1;33m.\u001b[0m\u001b[0mpyplot\u001b[0m \u001b[1;32mas\u001b[0m \u001b[0mplt\u001b[0m\u001b[1;33m\u001b[0m\u001b[1;33m\u001b[0m\u001b[0m\n",
      "\u001b[1;31mModuleNotFoundError\u001b[0m: No module named 'cv2'"
     ]
    }
   ],
   "source": [
    "# алгоритм для расширения стенок\n",
    "\n",
    "import cv2\n",
    "import numpy as np\n",
    "import matplotlib.pyplot as plt\n",
    "import seaborn as sns\n",
    "import scipy.spatial.distance as dist\n",
    "import image_processing as ip\n",
    "\n",
    "import scipy.misc\n",
    "import numpy as np\n",
    "from skimage.draw import line_aa\n",
    "\n",
    "ip.get_contour_of_image('plann')\n",
    "img = cv2.imread('out_pics/binary_plann.png')"
   ]
  },
  {
   "cell_type": "markdown",
   "metadata": {
    "id": "nfLq95TNWGxx"
   },
   "source": []
  },
  {
   "cell_type": "code",
   "execution_count": null,
   "metadata": {
    "colab": {
     "base_uri": "https://localhost:8080/"
    },
    "id": "ygz0wqy3iMYA",
    "outputId": "0255f5a2-3ae3-4d4e-d01a-f91e36b6ba6b"
   },
   "outputs": [
    {
     "name": "stdout",
     "output_type": "stream",
     "text": [
      "[[255. 255. 255. ... 255. 255. 255.]\n",
      " [255. 255. 255. ... 255. 255. 255.]\n",
      " [255. 255. 255. ... 255. 255. 255.]\n",
      " ...\n",
      " [255. 255. 255. ... 255. 255. 255.]\n",
      " [255. 255. 255. ... 255. 255. 255.]\n",
      " [255. 255. 255. ... 255. 255. 255.]]\n",
      "569 759\n",
      "(56, 75)\n"
     ]
    }
   ],
   "source": [
    "# делаем трехканальное изображение одноканальным, и формируем массив из 0 и 1\n",
    "\n",
    "# вводим количество пикселей, по которым будем усреднять\n",
    "h_x = 10\n",
    "h_y = 10\n",
    "\n",
    "iimg = np.mean(img, axis=2)\n",
    "print(iimg)\n",
    "\n",
    "l_y, l_x = np.shape(iimg)\n",
    "\n",
    "print(l_y, l_x)\n",
    "\n",
    "img_c = np.ones( (l_y // h_y, l_x // h_x) )\n",
    "print( np.shape( img_c) )\n",
    "\n",
    "for iy, ix in np.ndindex(img_c.shape):\n",
    "    color = np.mean(iimg[iy * h_y : iy * h_y + h_y, ix * h_x : ix * h_x + h_x])\n",
    "    if color < 255 * 0.9 * (1 - h_x / l_x):\n",
    "        img_c[iy, ix] = 1\n",
    "    else:\n",
    "        img_c[iy, ix] = 0"
   ]
  },
  {
   "cell_type": "code",
   "execution_count": null,
   "metadata": {
    "id": "TYDxhEtKG8-d"
   },
   "outputs": [],
   "source": [
    "np.save('plann_c1', img_c)\n",
    "\n",
    "from PIL import Image\n",
    "im = Image.fromarray(img_c * 1., \"L\")\n",
    "im.save(\"img_c.png\")"
   ]
  },
  {
   "cell_type": "code",
   "execution_count": null,
   "metadata": {
    "colab": {
     "base_uri": "https://localhost:8080/"
    },
    "id": "YaQlzfjpRnY4",
    "outputId": "c58ac4d5-ed67-43c9-e8cb-e5460138f964"
   },
   "outputs": [
    {
     "name": "stdout",
     "output_type": "stream",
     "text": [
      "[(70, 10)]\n",
      "[[70]\n",
      " [10]]\n"
     ]
    }
   ],
   "source": [
    "#coords = ip.find_coords_of_exits('plann')\n",
    "\n",
    "#coords = [(20,140)]\n",
    "\n",
    "#print(coords)\n",
    "coords_rescaled = (coords / np.array( [[h_x, h_y]] ) ).astype(int)\n",
    "coords_rescaled =[(70,10)]\n",
    "\n",
    "print(coords_rescaled)\n",
    "coords_rescaled = np.transpose( coords_rescaled )\n",
    "print(coords_rescaled)"
   ]
  },
  {
   "cell_type": "code",
   "execution_count": null,
   "metadata": {
    "colab": {
     "base_uri": "https://localhost:8080/",
     "height": 568
    },
    "id": "1q1y7mLA5KNi",
    "outputId": "4f20b110-4d15-4672-89e8-8f70d85cb711"
   },
   "outputs": [
    {
     "data": {
      "image/png": "[encoded data removed]",
      "text/plain": [
       "<Figure size 1000x800 with 1 Axes>"
      ]
     },
     "metadata": {},
     "output_type": "display_data"
    },
    {
     "name": "stdout",
     "output_type": "stream",
     "text": [
      "0.0\n"
     ]
    }
   ],
   "source": [
    "# выводим размытое изображение\n",
    "\n",
    "plt.figure(figsize=(10,8))\n",
    "plt.imshow(img_c)\n",
    "plt.scatter(coords_rescaled[0], coords_rescaled[1])\n",
    "plt.show()\n",
    "\n",
    "print(img_c[1,1])"
   ]
  },
  {
   "cell_type": "code",
   "execution_count": null,
   "metadata": {
    "id": "-IXmCF9l_t7D"
   },
   "outputs": [],
   "source": [
    "import itertools\n",
    "\n",
    "# найти множество индексов соседних элементов в двумерном массиве\n",
    "def get_neighbours(arr, ind):\n",
    "    l1, l2 = np.shape(arr)\n",
    "\n",
    "    #print(l1, l2)\n",
    "\n",
    "    # вычисляем границы\n",
    "\n",
    "    i_min = max(0, ind[0] - 1)\n",
    "    i_max = min(l1 - 1, ind[0] + 1)\n",
    "\n",
    "    j_min = max(0, ind[1] - 1)\n",
    "    j_max = min(l2 - 1, ind[1] + 1)\n",
    "\n",
    "    # получаем множество индексов соседей\n",
    "\n",
    "    #return np.mgrid([i_min: (i_max + 1) : 1], [j_min: (j_max + 1) : 1])\n",
    "\n",
    "    return list ( itertools.product( range(i_min, i_max + 1, 1), range(j_min,  (j_max + 1), 1) ) )\n"
   ]
  },
  {
   "cell_type": "code",
   "execution_count": null,
   "metadata": {
    "id": "sWQIuKCI2VYx"
   },
   "outputs": [],
   "source": [
    "# N - число итераций раздутия\n",
    "# img - картинка из 0 и 1\n",
    "def blow_job(img, N):\n",
    "    #print(get_neighbours(iimg, [175,5]))\n",
    "    count = 0\n",
    "    for i in range(N):\n",
    "\n",
    "        indices = np.argwhere(img > 0)\n",
    "        #print(indices)\n",
    "        # получаем индексы стенок\n",
    "        for i_y, i_x in indices:\n",
    "\n",
    "            # получаем всех соседей\n",
    "            neighb_ind = get_neighbours(img, [i_y, i_x])\n",
    "            #print(neighb_ind)\n",
    "            #print([img[s] for s in neighb_ind])\n",
    "            # обходим всех соседей\n",
    "            for k, l in neighb_ind:\n",
    "                #if (k, l) in indices:\n",
    "                #    continue\n",
    "                    # уже черную вершину не проверяем\n",
    "\n",
    "                # флаг необходимости окраски\n",
    "                to_be_black = False\n",
    "\n",
    "                # если среди новых соседей данного соседа первоначального элемента\n",
    "                # уже есть черные клетки, его не закрашиваем\n",
    "                #print( k, l )\n",
    "\n",
    "                ind = list(set(  get_neighbours(img, [k, l]) ).difference(set(neighb_ind) ) )\n",
    "                #print(ind)\n",
    "                neighb_colors = [img[s] for s in ind]\n",
    "                #print(neighb_colors)\n",
    "                if (not (1 in neighb_colors)):\n",
    "                    to_be_black = True\n",
    "                    #print(\"True!\")\n",
    "                if to_be_black:\n",
    "                    img[k,l] = 1\n",
    "                    count += 1\n",
    "    return img"
   ]
  },
  {
   "cell_type": "code",
   "execution_count": null,
   "metadata": {
    "id": "ncZI9uUQPsUV"
   },
   "outputs": [],
   "source": [
    "img_c = blow_job(img_c, 3)"
   ]
  },
  {
   "cell_type": "code",
   "execution_count": null,
   "metadata": {
    "id": "YkvBWwjSaiNh"
   },
   "outputs": [],
   "source": [
    "def add_doors(img, coords):\n",
    "    # функция добавления дверей. Рисуем прямую до ближайшей свободной точки\n",
    "\n",
    "    indices = np.argwhere(img == 0)\n",
    "    for coord in coords:\n",
    "        #print(coord - indices)\n",
    "        distances = np.linalg.norm( np.flip(coord) - indices, axis = 1)\n",
    "        distances = np.array(distances)\n",
    "        #print(np.min(distances))\n",
    "        nearest_el = indices[np.argmin(distances)]\n",
    "        #print(nearest_el)\n",
    "        #print()\n",
    "\n",
    "        # находим индексы ближайшего элемента\n",
    "\n",
    "        rr, cc, val = line_aa(coord[1], coord[0], nearest_el[0], nearest_el[1])\n",
    "        # рисуем отсутствие стенки\n",
    "        img[rr, cc] = 0\n",
    "\n",
    "    return img"
   ]
  },
  {
   "cell_type": "code",
   "execution_count": null,
   "metadata": {
    "id": "Tf7b1kcenDrl"
   },
   "outputs": [],
   "source": [
    "img_wdoors = add_doors(img_c, np.transpose(coords_rescaled) )"
   ]
  },
  {
   "cell_type": "code",
   "execution_count": null,
   "metadata": {
    "colab": {
     "base_uri": "https://localhost:8080/",
     "height": 550
    },
    "id": "QDt0MT4-hwFO",
    "outputId": "153863c0-2b3e-4674-bea9-ee76b649dd87"
   },
   "outputs": [
    {
     "data": {
      "image/png": "[encoded data removed]",
      "text/plain": [
       "<Figure size 1000x800 with 1 Axes>"
      ]
     },
     "metadata": {},
     "output_type": "display_data"
    }
   ],
   "source": [
    "plt.figure(figsize=(10,8))\n",
    "plt.imshow(img_wdoors)\n",
    "plt.scatter(coords_rescaled[0], coords_rescaled[1],color = \"red\")\n",
    "plt.show()"
   ]
  },
  {
   "cell_type": "code",
   "execution_count": null,
   "metadata": {
    "id": "xanR4zmrpLj4"
   },
   "outputs": [],
   "source": [
    "np.save('plann_c', img_wdoors)"
   ]
  },
  {
   "cell_type": "code",
   "execution_count": null,
   "metadata": {
    "colab": {
     "base_uri": "https://localhost:8080/"
    },
    "id": "keEdqX0QaF-W",
    "outputId": "2b46a662-8200-41dd-90cd-9bda2c52f6ff"
   },
   "outputs": [
    {
     "name": "stdout",
     "output_type": "stream",
     "text": [
      "Figure(640x480)\n",
      "0\n",
      "100\n",
      "200\n",
      "MovieWriter imagemagick unavailable; using Pillow instead.\n"
     ]
    }
   ],
   "source": [
    "!python3 hack.py"
   ]
  },
  {
   "cell_type": "code",
   "execution_count": null,
   "metadata": {
    "id": "D7EW3zbbn7Ur"
   },
   "outputs": [],
   "source": []
  }
 ],
 "metadata": {
  "colab": {
   "provenance": []
  },
  "kernelspec": {
   "display_name": "Python 3",
   "language": "python",
   "name": "python3"
  },
  "language_info": {
   "codemirror_mode": {
    "name": "ipython",
    "version": 3
   },
   "file_extension": ".py",
   "mimetype": "text/x-python",
   "name": "python",
   "nbconvert_exporter": "python",
   "pygments_lexer": "ipython3",
   "version": "3.8.8"
  }
 },
 "nbformat": 4,
 "nbformat_minor": 1
}
